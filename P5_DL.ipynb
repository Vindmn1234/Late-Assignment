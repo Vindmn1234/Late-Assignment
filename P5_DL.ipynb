{
  "nbformat": 4,
  "nbformat_minor": 0,
  "metadata": {
    "colab": {
      "provenance": [],
      "gpuType": "T4",
      "machine_shape": "hm"
    },
    "kernelspec": {
      "name": "python3",
      "display_name": "Python 3"
    },
    "language_info": {
      "name": "python"
    },
    "accelerator": "GPU"
  },
  "cells": [
    {
      "cell_type": "code",
      "source": [
        "!pip install torch-geometric"
      ],
      "metadata": {
        "colab": {
          "base_uri": "https://localhost:8080/"
        },
        "id": "Ewdg_bRgskX8",
        "outputId": "bb0193b5-1fd8-465f-f4b3-441eb154be02"
      },
      "execution_count": null,
      "outputs": [
        {
          "output_type": "stream",
          "name": "stdout",
          "text": [
            "Collecting torch-geometric\n",
            "  Downloading torch_geometric-2.5.0-py3-none-any.whl (1.1 MB)\n",
            "\u001b[2K     \u001b[90m━━━━━━━━━━━━━━━━━━━━━━━━━━━━━━━━━━━━━━━━\u001b[0m \u001b[32m1.1/1.1 MB\u001b[0m \u001b[31m8.5 MB/s\u001b[0m eta \u001b[36m0:00:00\u001b[0m\n",
            "\u001b[?25hRequirement already satisfied: tqdm in /usr/local/lib/python3.10/dist-packages (from torch-geometric) (4.66.2)\n",
            "Requirement already satisfied: numpy in /usr/local/lib/python3.10/dist-packages (from torch-geometric) (1.25.2)\n",
            "Requirement already satisfied: scipy in /usr/local/lib/python3.10/dist-packages (from torch-geometric) (1.11.4)\n",
            "Requirement already satisfied: fsspec in /usr/local/lib/python3.10/dist-packages (from torch-geometric) (2023.6.0)\n",
            "Requirement already satisfied: jinja2 in /usr/local/lib/python3.10/dist-packages (from torch-geometric) (3.1.3)\n",
            "Requirement already satisfied: aiohttp in /usr/local/lib/python3.10/dist-packages (from torch-geometric) (3.9.3)\n",
            "Requirement already satisfied: requests in /usr/local/lib/python3.10/dist-packages (from torch-geometric) (2.31.0)\n",
            "Requirement already satisfied: pyparsing in /usr/local/lib/python3.10/dist-packages (from torch-geometric) (3.1.1)\n",
            "Requirement already satisfied: scikit-learn in /usr/local/lib/python3.10/dist-packages (from torch-geometric) (1.2.2)\n",
            "Requirement already satisfied: psutil>=5.8.0 in /usr/local/lib/python3.10/dist-packages (from torch-geometric) (5.9.5)\n",
            "Requirement already satisfied: aiosignal>=1.1.2 in /usr/local/lib/python3.10/dist-packages (from aiohttp->torch-geometric) (1.3.1)\n",
            "Requirement already satisfied: attrs>=17.3.0 in /usr/local/lib/python3.10/dist-packages (from aiohttp->torch-geometric) (23.2.0)\n",
            "Requirement already satisfied: frozenlist>=1.1.1 in /usr/local/lib/python3.10/dist-packages (from aiohttp->torch-geometric) (1.4.1)\n",
            "Requirement already satisfied: multidict<7.0,>=4.5 in /usr/local/lib/python3.10/dist-packages (from aiohttp->torch-geometric) (6.0.5)\n",
            "Requirement already satisfied: yarl<2.0,>=1.0 in /usr/local/lib/python3.10/dist-packages (from aiohttp->torch-geometric) (1.9.4)\n",
            "Requirement already satisfied: async-timeout<5.0,>=4.0 in /usr/local/lib/python3.10/dist-packages (from aiohttp->torch-geometric) (4.0.3)\n",
            "Requirement already satisfied: MarkupSafe>=2.0 in /usr/local/lib/python3.10/dist-packages (from jinja2->torch-geometric) (2.1.5)\n",
            "Requirement already satisfied: charset-normalizer<4,>=2 in /usr/local/lib/python3.10/dist-packages (from requests->torch-geometric) (3.3.2)\n",
            "Requirement already satisfied: idna<4,>=2.5 in /usr/local/lib/python3.10/dist-packages (from requests->torch-geometric) (3.6)\n",
            "Requirement already satisfied: urllib3<3,>=1.21.1 in /usr/local/lib/python3.10/dist-packages (from requests->torch-geometric) (2.0.7)\n",
            "Requirement already satisfied: certifi>=2017.4.17 in /usr/local/lib/python3.10/dist-packages (from requests->torch-geometric) (2024.2.2)\n",
            "Requirement already satisfied: joblib>=1.1.1 in /usr/local/lib/python3.10/dist-packages (from scikit-learn->torch-geometric) (1.3.2)\n",
            "Requirement already satisfied: threadpoolctl>=2.0.0 in /usr/local/lib/python3.10/dist-packages (from scikit-learn->torch-geometric) (3.3.0)\n",
            "Installing collected packages: torch-geometric\n",
            "Successfully installed torch-geometric-2.5.0\n"
          ]
        }
      ]
    },
    {
      "cell_type": "code",
      "source": [
        "import pandas as pd\n",
        "import numpy as np\n",
        "import re\n",
        "from bs4 import BeautifulSoup\n",
        "import matplotlib.pyplot as plt\n",
        "from sklearn.cluster import KMeans\n",
        "import gensim\n",
        "from sklearn.model_selection import train_test_split\n",
        "from sklearn.ensemble import RandomForestClassifier\n",
        "from sklearn.metrics import classification_report, roc_auc_score\n",
        "from sklearn.preprocessing import StandardScaler\n",
        "from imblearn.over_sampling import SMOTE\n",
        "import seaborn as sns\n",
        "from sklearn.metrics import confusion_matrix, roc_curve, auc, RocCurveDisplay\n",
        "from sklearn.linear_model import LogisticRegressionCV"
      ],
      "metadata": {
        "id": "laQVVWAgsNTy"
      },
      "execution_count": null,
      "outputs": []
    },
    {
      "cell_type": "code",
      "source": [
        "import torch\n",
        "from torch_geometric.data import Data"
      ],
      "metadata": {
        "id": "Yx-hUQHxsUmE"
      },
      "execution_count": null,
      "outputs": []
    },
    {
      "cell_type": "code",
      "execution_count": null,
      "metadata": {
        "id": "eWVMe2UorgbJ"
      },
      "outputs": [],
      "source": [
        "# from google.colab import drive\n",
        "# drive.mount('/content/drive')"
      ]
    },
    {
      "cell_type": "code",
      "source": [
        "from google.colab import files\n",
        "\n",
        "uploaded = files.upload()"
      ],
      "metadata": {
        "colab": {
          "base_uri": "https://localhost:8080/",
          "height": 74
        },
        "id": "RLL4mez4j6Tp",
        "outputId": "03c19095-b791-4f78-8180-fd20b235535d"
      },
      "execution_count": null,
      "outputs": [
        {
          "output_type": "display_data",
          "data": {
            "text/plain": [
              "<IPython.core.display.HTML object>"
            ],
            "text/html": [
              "\n",
              "     <input type=\"file\" id=\"files-1efad662-890d-443e-9a2e-da2a799373b0\" name=\"files[]\" multiple disabled\n",
              "        style=\"border:none\" />\n",
              "     <output id=\"result-1efad662-890d-443e-9a2e-da2a799373b0\">\n",
              "      Upload widget is only available when the cell has been executed in the\n",
              "      current browser session. Please rerun this cell to enable.\n",
              "      </output>\n",
              "      <script>// Copyright 2017 Google LLC\n",
              "//\n",
              "// Licensed under the Apache License, Version 2.0 (the \"License\");\n",
              "// you may not use this file except in compliance with the License.\n",
              "// You may obtain a copy of the License at\n",
              "//\n",
              "//      http://www.apache.org/licenses/LICENSE-2.0\n",
              "//\n",
              "// Unless required by applicable law or agreed to in writing, software\n",
              "// distributed under the License is distributed on an \"AS IS\" BASIS,\n",
              "// WITHOUT WARRANTIES OR CONDITIONS OF ANY KIND, either express or implied.\n",
              "// See the License for the specific language governing permissions and\n",
              "// limitations under the License.\n",
              "\n",
              "/**\n",
              " * @fileoverview Helpers for google.colab Python module.\n",
              " */\n",
              "(function(scope) {\n",
              "function span(text, styleAttributes = {}) {\n",
              "  const element = document.createElement('span');\n",
              "  element.textContent = text;\n",
              "  for (const key of Object.keys(styleAttributes)) {\n",
              "    element.style[key] = styleAttributes[key];\n",
              "  }\n",
              "  return element;\n",
              "}\n",
              "\n",
              "// Max number of bytes which will be uploaded at a time.\n",
              "const MAX_PAYLOAD_SIZE = 100 * 1024;\n",
              "\n",
              "function _uploadFiles(inputId, outputId) {\n",
              "  const steps = uploadFilesStep(inputId, outputId);\n",
              "  const outputElement = document.getElementById(outputId);\n",
              "  // Cache steps on the outputElement to make it available for the next call\n",
              "  // to uploadFilesContinue from Python.\n",
              "  outputElement.steps = steps;\n",
              "\n",
              "  return _uploadFilesContinue(outputId);\n",
              "}\n",
              "\n",
              "// This is roughly an async generator (not supported in the browser yet),\n",
              "// where there are multiple asynchronous steps and the Python side is going\n",
              "// to poll for completion of each step.\n",
              "// This uses a Promise to block the python side on completion of each step,\n",
              "// then passes the result of the previous step as the input to the next step.\n",
              "function _uploadFilesContinue(outputId) {\n",
              "  const outputElement = document.getElementById(outputId);\n",
              "  const steps = outputElement.steps;\n",
              "\n",
              "  const next = steps.next(outputElement.lastPromiseValue);\n",
              "  return Promise.resolve(next.value.promise).then((value) => {\n",
              "    // Cache the last promise value to make it available to the next\n",
              "    // step of the generator.\n",
              "    outputElement.lastPromiseValue = value;\n",
              "    return next.value.response;\n",
              "  });\n",
              "}\n",
              "\n",
              "/**\n",
              " * Generator function which is called between each async step of the upload\n",
              " * process.\n",
              " * @param {string} inputId Element ID of the input file picker element.\n",
              " * @param {string} outputId Element ID of the output display.\n",
              " * @return {!Iterable<!Object>} Iterable of next steps.\n",
              " */\n",
              "function* uploadFilesStep(inputId, outputId) {\n",
              "  const inputElement = document.getElementById(inputId);\n",
              "  inputElement.disabled = false;\n",
              "\n",
              "  const outputElement = document.getElementById(outputId);\n",
              "  outputElement.innerHTML = '';\n",
              "\n",
              "  const pickedPromise = new Promise((resolve) => {\n",
              "    inputElement.addEventListener('change', (e) => {\n",
              "      resolve(e.target.files);\n",
              "    });\n",
              "  });\n",
              "\n",
              "  const cancel = document.createElement('button');\n",
              "  inputElement.parentElement.appendChild(cancel);\n",
              "  cancel.textContent = 'Cancel upload';\n",
              "  const cancelPromise = new Promise((resolve) => {\n",
              "    cancel.onclick = () => {\n",
              "      resolve(null);\n",
              "    };\n",
              "  });\n",
              "\n",
              "  // Wait for the user to pick the files.\n",
              "  const files = yield {\n",
              "    promise: Promise.race([pickedPromise, cancelPromise]),\n",
              "    response: {\n",
              "      action: 'starting',\n",
              "    }\n",
              "  };\n",
              "\n",
              "  cancel.remove();\n",
              "\n",
              "  // Disable the input element since further picks are not allowed.\n",
              "  inputElement.disabled = true;\n",
              "\n",
              "  if (!files) {\n",
              "    return {\n",
              "      response: {\n",
              "        action: 'complete',\n",
              "      }\n",
              "    };\n",
              "  }\n",
              "\n",
              "  for (const file of files) {\n",
              "    const li = document.createElement('li');\n",
              "    li.append(span(file.name, {fontWeight: 'bold'}));\n",
              "    li.append(span(\n",
              "        `(${file.type || 'n/a'}) - ${file.size} bytes, ` +\n",
              "        `last modified: ${\n",
              "            file.lastModifiedDate ? file.lastModifiedDate.toLocaleDateString() :\n",
              "                                    'n/a'} - `));\n",
              "    const percent = span('0% done');\n",
              "    li.appendChild(percent);\n",
              "\n",
              "    outputElement.appendChild(li);\n",
              "\n",
              "    const fileDataPromise = new Promise((resolve) => {\n",
              "      const reader = new FileReader();\n",
              "      reader.onload = (e) => {\n",
              "        resolve(e.target.result);\n",
              "      };\n",
              "      reader.readAsArrayBuffer(file);\n",
              "    });\n",
              "    // Wait for the data to be ready.\n",
              "    let fileData = yield {\n",
              "      promise: fileDataPromise,\n",
              "      response: {\n",
              "        action: 'continue',\n",
              "      }\n",
              "    };\n",
              "\n",
              "    // Use a chunked sending to avoid message size limits. See b/62115660.\n",
              "    let position = 0;\n",
              "    do {\n",
              "      const length = Math.min(fileData.byteLength - position, MAX_PAYLOAD_SIZE);\n",
              "      const chunk = new Uint8Array(fileData, position, length);\n",
              "      position += length;\n",
              "\n",
              "      const base64 = btoa(String.fromCharCode.apply(null, chunk));\n",
              "      yield {\n",
              "        response: {\n",
              "          action: 'append',\n",
              "          file: file.name,\n",
              "          data: base64,\n",
              "        },\n",
              "      };\n",
              "\n",
              "      let percentDone = fileData.byteLength === 0 ?\n",
              "          100 :\n",
              "          Math.round((position / fileData.byteLength) * 100);\n",
              "      percent.textContent = `${percentDone}% done`;\n",
              "\n",
              "    } while (position < fileData.byteLength);\n",
              "  }\n",
              "\n",
              "  // All done.\n",
              "  yield {\n",
              "    response: {\n",
              "      action: 'complete',\n",
              "    }\n",
              "  };\n",
              "}\n",
              "\n",
              "scope.google = scope.google || {};\n",
              "scope.google.colab = scope.google.colab || {};\n",
              "scope.google.colab._files = {\n",
              "  _uploadFiles,\n",
              "  _uploadFilesContinue,\n",
              "};\n",
              "})(self);\n",
              "</script> "
            ]
          },
          "metadata": {}
        },
        {
          "output_type": "stream",
          "name": "stdout",
          "text": [
            "Saving finall_data.csv to finall_data.csv\n"
          ]
        }
      ]
    },
    {
      "cell_type": "code",
      "source": [
        "# uploaded = files.upload()"
      ],
      "metadata": {
        "id": "9Smyw_2LNQMh"
      },
      "execution_count": null,
      "outputs": []
    },
    {
      "cell_type": "code",
      "source": [
        "df_filled = pd.read_csv('finall_data.csv')"
      ],
      "metadata": {
        "id": "fzJa6yUYtkfM"
      },
      "execution_count": null,
      "outputs": []
    },
    {
      "cell_type": "code",
      "source": [
        "df_filled"
      ],
      "metadata": {
        "id": "LrYeQRmLJkre",
        "outputId": "61b26b18-4ab6-4f78-c881-beedd0bb093e",
        "colab": {
          "base_uri": "https://localhost:8080/",
          "height": 478
        }
      },
      "execution_count": null,
      "outputs": [
        {
          "output_type": "execute_result",
          "data": {
            "text/plain": [
              "       Environment and Agriculture  Communication  Consulting  Education  \\\n",
              "0                                0              0           0          0   \n",
              "1                                0              0           1          0   \n",
              "2                                0              0           0          0   \n",
              "3                                0              0           0          0   \n",
              "4                                0              0           0          0   \n",
              "...                            ...            ...         ...        ...   \n",
              "30241                            0              1           1          0   \n",
              "30242                            0              0           0          0   \n",
              "30243                            0              0           0          0   \n",
              "30244                            0              0           0          0   \n",
              "30245                            0              0           0          0   \n",
              "\n",
              "       Energy  Entertainment  Finance  Government Administration  Healthcare  \\\n",
              "0           0              0        0                          0           0   \n",
              "1           0              0        0                          0           0   \n",
              "2           0              0        0                          0           0   \n",
              "3           0              0        0                          0           1   \n",
              "4           0              0        1                          0           0   \n",
              "...       ...            ...      ...                        ...         ...   \n",
              "30241       0              1        0                          0           0   \n",
              "30242       0              0        0                          0           1   \n",
              "30243       0              0        0                          0           1   \n",
              "30244       0              0        0                          0           0   \n",
              "30245       0              0        0                          0           0   \n",
              "\n",
              "       Hospitality  ...  windows  wireless  word  xml  Seniority_Associate  \\\n",
              "0                0  ...        0         0     0    0                    0   \n",
              "1                0  ...        0         0     0    0                    0   \n",
              "2                0  ...        0         0     0    0                    0   \n",
              "3                0  ...        0         0     0    0                    0   \n",
              "4                0  ...        0         0     0    0                    0   \n",
              "...            ...  ...      ...       ...   ...  ...                  ...   \n",
              "30241            0  ...        0         0     0    0                    0   \n",
              "30242            0  ...        1         0     1    0                    0   \n",
              "30243            0  ...        0         0     0    0                    0   \n",
              "30244            0  ...        0         0     1    0                    0   \n",
              "30245            0  ...        0         0     0    0                    0   \n",
              "\n",
              "       Seniority_Director  Seniority_Entry level  Seniority_Executive  \\\n",
              "0                       0                      1                    0   \n",
              "1                       0                      1                    0   \n",
              "2                       0                      1                    0   \n",
              "3                       0                      1                    0   \n",
              "4                       0                      1                    0   \n",
              "...                   ...                    ...                  ...   \n",
              "30241                   0                      1                    0   \n",
              "30242                   0                      1                    0   \n",
              "30243                   0                      0                    0   \n",
              "30244                   0                      0                    0   \n",
              "30245                   0                      1                    0   \n",
              "\n",
              "       Seniority_Internship  Seniority_Mid-Senior level  \n",
              "0                         0                           0  \n",
              "1                         0                           0  \n",
              "2                         0                           0  \n",
              "3                         0                           0  \n",
              "4                         0                           0  \n",
              "...                     ...                         ...  \n",
              "30241                     0                           0  \n",
              "30242                     0                           0  \n",
              "30243                     0                           1  \n",
              "30244                     0                           1  \n",
              "30245                     0                           0  \n",
              "\n",
              "[30246 rows x 255 columns]"
            ],
            "text/html": [
              "\n",
              "  <div id=\"df-c9fd7c7b-c968-4ee6-8f03-7fb60dc254d9\" class=\"colab-df-container\">\n",
              "    <div>\n",
              "<style scoped>\n",
              "    .dataframe tbody tr th:only-of-type {\n",
              "        vertical-align: middle;\n",
              "    }\n",
              "\n",
              "    .dataframe tbody tr th {\n",
              "        vertical-align: top;\n",
              "    }\n",
              "\n",
              "    .dataframe thead th {\n",
              "        text-align: right;\n",
              "    }\n",
              "</style>\n",
              "<table border=\"1\" class=\"dataframe\">\n",
              "  <thead>\n",
              "    <tr style=\"text-align: right;\">\n",
              "      <th></th>\n",
              "      <th>Environment and Agriculture</th>\n",
              "      <th>Communication</th>\n",
              "      <th>Consulting</th>\n",
              "      <th>Education</th>\n",
              "      <th>Energy</th>\n",
              "      <th>Entertainment</th>\n",
              "      <th>Finance</th>\n",
              "      <th>Government Administration</th>\n",
              "      <th>Healthcare</th>\n",
              "      <th>Hospitality</th>\n",
              "      <th>...</th>\n",
              "      <th>windows</th>\n",
              "      <th>wireless</th>\n",
              "      <th>word</th>\n",
              "      <th>xml</th>\n",
              "      <th>Seniority_Associate</th>\n",
              "      <th>Seniority_Director</th>\n",
              "      <th>Seniority_Entry level</th>\n",
              "      <th>Seniority_Executive</th>\n",
              "      <th>Seniority_Internship</th>\n",
              "      <th>Seniority_Mid-Senior level</th>\n",
              "    </tr>\n",
              "  </thead>\n",
              "  <tbody>\n",
              "    <tr>\n",
              "      <th>0</th>\n",
              "      <td>0</td>\n",
              "      <td>0</td>\n",
              "      <td>0</td>\n",
              "      <td>0</td>\n",
              "      <td>0</td>\n",
              "      <td>0</td>\n",
              "      <td>0</td>\n",
              "      <td>0</td>\n",
              "      <td>0</td>\n",
              "      <td>0</td>\n",
              "      <td>...</td>\n",
              "      <td>0</td>\n",
              "      <td>0</td>\n",
              "      <td>0</td>\n",
              "      <td>0</td>\n",
              "      <td>0</td>\n",
              "      <td>0</td>\n",
              "      <td>1</td>\n",
              "      <td>0</td>\n",
              "      <td>0</td>\n",
              "      <td>0</td>\n",
              "    </tr>\n",
              "    <tr>\n",
              "      <th>1</th>\n",
              "      <td>0</td>\n",
              "      <td>0</td>\n",
              "      <td>1</td>\n",
              "      <td>0</td>\n",
              "      <td>0</td>\n",
              "      <td>0</td>\n",
              "      <td>0</td>\n",
              "      <td>0</td>\n",
              "      <td>0</td>\n",
              "      <td>0</td>\n",
              "      <td>...</td>\n",
              "      <td>0</td>\n",
              "      <td>0</td>\n",
              "      <td>0</td>\n",
              "      <td>0</td>\n",
              "      <td>0</td>\n",
              "      <td>0</td>\n",
              "      <td>1</td>\n",
              "      <td>0</td>\n",
              "      <td>0</td>\n",
              "      <td>0</td>\n",
              "    </tr>\n",
              "    <tr>\n",
              "      <th>2</th>\n",
              "      <td>0</td>\n",
              "      <td>0</td>\n",
              "      <td>0</td>\n",
              "      <td>0</td>\n",
              "      <td>0</td>\n",
              "      <td>0</td>\n",
              "      <td>0</td>\n",
              "      <td>0</td>\n",
              "      <td>0</td>\n",
              "      <td>0</td>\n",
              "      <td>...</td>\n",
              "      <td>0</td>\n",
              "      <td>0</td>\n",
              "      <td>0</td>\n",
              "      <td>0</td>\n",
              "      <td>0</td>\n",
              "      <td>0</td>\n",
              "      <td>1</td>\n",
              "      <td>0</td>\n",
              "      <td>0</td>\n",
              "      <td>0</td>\n",
              "    </tr>\n",
              "    <tr>\n",
              "      <th>3</th>\n",
              "      <td>0</td>\n",
              "      <td>0</td>\n",
              "      <td>0</td>\n",
              "      <td>0</td>\n",
              "      <td>0</td>\n",
              "      <td>0</td>\n",
              "      <td>0</td>\n",
              "      <td>0</td>\n",
              "      <td>1</td>\n",
              "      <td>0</td>\n",
              "      <td>...</td>\n",
              "      <td>0</td>\n",
              "      <td>0</td>\n",
              "      <td>0</td>\n",
              "      <td>0</td>\n",
              "      <td>0</td>\n",
              "      <td>0</td>\n",
              "      <td>1</td>\n",
              "      <td>0</td>\n",
              "      <td>0</td>\n",
              "      <td>0</td>\n",
              "    </tr>\n",
              "    <tr>\n",
              "      <th>4</th>\n",
              "      <td>0</td>\n",
              "      <td>0</td>\n",
              "      <td>0</td>\n",
              "      <td>0</td>\n",
              "      <td>0</td>\n",
              "      <td>0</td>\n",
              "      <td>1</td>\n",
              "      <td>0</td>\n",
              "      <td>0</td>\n",
              "      <td>0</td>\n",
              "      <td>...</td>\n",
              "      <td>0</td>\n",
              "      <td>0</td>\n",
              "      <td>0</td>\n",
              "      <td>0</td>\n",
              "      <td>0</td>\n",
              "      <td>0</td>\n",
              "      <td>1</td>\n",
              "      <td>0</td>\n",
              "      <td>0</td>\n",
              "      <td>0</td>\n",
              "    </tr>\n",
              "    <tr>\n",
              "      <th>...</th>\n",
              "      <td>...</td>\n",
              "      <td>...</td>\n",
              "      <td>...</td>\n",
              "      <td>...</td>\n",
              "      <td>...</td>\n",
              "      <td>...</td>\n",
              "      <td>...</td>\n",
              "      <td>...</td>\n",
              "      <td>...</td>\n",
              "      <td>...</td>\n",
              "      <td>...</td>\n",
              "      <td>...</td>\n",
              "      <td>...</td>\n",
              "      <td>...</td>\n",
              "      <td>...</td>\n",
              "      <td>...</td>\n",
              "      <td>...</td>\n",
              "      <td>...</td>\n",
              "      <td>...</td>\n",
              "      <td>...</td>\n",
              "      <td>...</td>\n",
              "    </tr>\n",
              "    <tr>\n",
              "      <th>30241</th>\n",
              "      <td>0</td>\n",
              "      <td>1</td>\n",
              "      <td>1</td>\n",
              "      <td>0</td>\n",
              "      <td>0</td>\n",
              "      <td>1</td>\n",
              "      <td>0</td>\n",
              "      <td>0</td>\n",
              "      <td>0</td>\n",
              "      <td>0</td>\n",
              "      <td>...</td>\n",
              "      <td>0</td>\n",
              "      <td>0</td>\n",
              "      <td>0</td>\n",
              "      <td>0</td>\n",
              "      <td>0</td>\n",
              "      <td>0</td>\n",
              "      <td>1</td>\n",
              "      <td>0</td>\n",
              "      <td>0</td>\n",
              "      <td>0</td>\n",
              "    </tr>\n",
              "    <tr>\n",
              "      <th>30242</th>\n",
              "      <td>0</td>\n",
              "      <td>0</td>\n",
              "      <td>0</td>\n",
              "      <td>0</td>\n",
              "      <td>0</td>\n",
              "      <td>0</td>\n",
              "      <td>0</td>\n",
              "      <td>0</td>\n",
              "      <td>1</td>\n",
              "      <td>0</td>\n",
              "      <td>...</td>\n",
              "      <td>1</td>\n",
              "      <td>0</td>\n",
              "      <td>1</td>\n",
              "      <td>0</td>\n",
              "      <td>0</td>\n",
              "      <td>0</td>\n",
              "      <td>1</td>\n",
              "      <td>0</td>\n",
              "      <td>0</td>\n",
              "      <td>0</td>\n",
              "    </tr>\n",
              "    <tr>\n",
              "      <th>30243</th>\n",
              "      <td>0</td>\n",
              "      <td>0</td>\n",
              "      <td>0</td>\n",
              "      <td>0</td>\n",
              "      <td>0</td>\n",
              "      <td>0</td>\n",
              "      <td>0</td>\n",
              "      <td>0</td>\n",
              "      <td>1</td>\n",
              "      <td>0</td>\n",
              "      <td>...</td>\n",
              "      <td>0</td>\n",
              "      <td>0</td>\n",
              "      <td>0</td>\n",
              "      <td>0</td>\n",
              "      <td>0</td>\n",
              "      <td>0</td>\n",
              "      <td>0</td>\n",
              "      <td>0</td>\n",
              "      <td>0</td>\n",
              "      <td>1</td>\n",
              "    </tr>\n",
              "    <tr>\n",
              "      <th>30244</th>\n",
              "      <td>0</td>\n",
              "      <td>0</td>\n",
              "      <td>0</td>\n",
              "      <td>0</td>\n",
              "      <td>0</td>\n",
              "      <td>0</td>\n",
              "      <td>0</td>\n",
              "      <td>0</td>\n",
              "      <td>0</td>\n",
              "      <td>0</td>\n",
              "      <td>...</td>\n",
              "      <td>0</td>\n",
              "      <td>0</td>\n",
              "      <td>1</td>\n",
              "      <td>0</td>\n",
              "      <td>0</td>\n",
              "      <td>0</td>\n",
              "      <td>0</td>\n",
              "      <td>0</td>\n",
              "      <td>0</td>\n",
              "      <td>1</td>\n",
              "    </tr>\n",
              "    <tr>\n",
              "      <th>30245</th>\n",
              "      <td>0</td>\n",
              "      <td>0</td>\n",
              "      <td>0</td>\n",
              "      <td>0</td>\n",
              "      <td>0</td>\n",
              "      <td>0</td>\n",
              "      <td>0</td>\n",
              "      <td>0</td>\n",
              "      <td>0</td>\n",
              "      <td>0</td>\n",
              "      <td>...</td>\n",
              "      <td>0</td>\n",
              "      <td>0</td>\n",
              "      <td>0</td>\n",
              "      <td>0</td>\n",
              "      <td>0</td>\n",
              "      <td>0</td>\n",
              "      <td>1</td>\n",
              "      <td>0</td>\n",
              "      <td>0</td>\n",
              "      <td>0</td>\n",
              "    </tr>\n",
              "  </tbody>\n",
              "</table>\n",
              "<p>30246 rows × 255 columns</p>\n",
              "</div>\n",
              "    <div class=\"colab-df-buttons\">\n",
              "\n",
              "  <div class=\"colab-df-container\">\n",
              "    <button class=\"colab-df-convert\" onclick=\"convertToInteractive('df-c9fd7c7b-c968-4ee6-8f03-7fb60dc254d9')\"\n",
              "            title=\"Convert this dataframe to an interactive table.\"\n",
              "            style=\"display:none;\">\n",
              "\n",
              "  <svg xmlns=\"http://www.w3.org/2000/svg\" height=\"24px\" viewBox=\"0 -960 960 960\">\n",
              "    <path d=\"M120-120v-720h720v720H120Zm60-500h600v-160H180v160Zm220 220h160v-160H400v160Zm0 220h160v-160H400v160ZM180-400h160v-160H180v160Zm440 0h160v-160H620v160ZM180-180h160v-160H180v160Zm440 0h160v-160H620v160Z\"/>\n",
              "  </svg>\n",
              "    </button>\n",
              "\n",
              "  <style>\n",
              "    .colab-df-container {\n",
              "      display:flex;\n",
              "      gap: 12px;\n",
              "    }\n",
              "\n",
              "    .colab-df-convert {\n",
              "      background-color: #E8F0FE;\n",
              "      border: none;\n",
              "      border-radius: 50%;\n",
              "      cursor: pointer;\n",
              "      display: none;\n",
              "      fill: #1967D2;\n",
              "      height: 32px;\n",
              "      padding: 0 0 0 0;\n",
              "      width: 32px;\n",
              "    }\n",
              "\n",
              "    .colab-df-convert:hover {\n",
              "      background-color: #E2EBFA;\n",
              "      box-shadow: 0px 1px 2px rgba(60, 64, 67, 0.3), 0px 1px 3px 1px rgba(60, 64, 67, 0.15);\n",
              "      fill: #174EA6;\n",
              "    }\n",
              "\n",
              "    .colab-df-buttons div {\n",
              "      margin-bottom: 4px;\n",
              "    }\n",
              "\n",
              "    [theme=dark] .colab-df-convert {\n",
              "      background-color: #3B4455;\n",
              "      fill: #D2E3FC;\n",
              "    }\n",
              "\n",
              "    [theme=dark] .colab-df-convert:hover {\n",
              "      background-color: #434B5C;\n",
              "      box-shadow: 0px 1px 3px 1px rgba(0, 0, 0, 0.15);\n",
              "      filter: drop-shadow(0px 1px 2px rgba(0, 0, 0, 0.3));\n",
              "      fill: #FFFFFF;\n",
              "    }\n",
              "  </style>\n",
              "\n",
              "    <script>\n",
              "      const buttonEl =\n",
              "        document.querySelector('#df-c9fd7c7b-c968-4ee6-8f03-7fb60dc254d9 button.colab-df-convert');\n",
              "      buttonEl.style.display =\n",
              "        google.colab.kernel.accessAllowed ? 'block' : 'none';\n",
              "\n",
              "      async function convertToInteractive(key) {\n",
              "        const element = document.querySelector('#df-c9fd7c7b-c968-4ee6-8f03-7fb60dc254d9');\n",
              "        const dataTable =\n",
              "          await google.colab.kernel.invokeFunction('convertToInteractive',\n",
              "                                                    [key], {});\n",
              "        if (!dataTable) return;\n",
              "\n",
              "        const docLinkHtml = 'Like what you see? Visit the ' +\n",
              "          '<a target=\"_blank\" href=https://colab.research.google.com/notebooks/data_table.ipynb>data table notebook</a>'\n",
              "          + ' to learn more about interactive tables.';\n",
              "        element.innerHTML = '';\n",
              "        dataTable['output_type'] = 'display_data';\n",
              "        await google.colab.output.renderOutput(dataTable, element);\n",
              "        const docLink = document.createElement('div');\n",
              "        docLink.innerHTML = docLinkHtml;\n",
              "        element.appendChild(docLink);\n",
              "      }\n",
              "    </script>\n",
              "  </div>\n",
              "\n",
              "\n",
              "<div id=\"df-f519b4ff-4a63-4b3b-87d8-19c6a77ea551\">\n",
              "  <button class=\"colab-df-quickchart\" onclick=\"quickchart('df-f519b4ff-4a63-4b3b-87d8-19c6a77ea551')\"\n",
              "            title=\"Suggest charts\"\n",
              "            style=\"display:none;\">\n",
              "\n",
              "<svg xmlns=\"http://www.w3.org/2000/svg\" height=\"24px\"viewBox=\"0 0 24 24\"\n",
              "     width=\"24px\">\n",
              "    <g>\n",
              "        <path d=\"M19 3H5c-1.1 0-2 .9-2 2v14c0 1.1.9 2 2 2h14c1.1 0 2-.9 2-2V5c0-1.1-.9-2-2-2zM9 17H7v-7h2v7zm4 0h-2V7h2v10zm4 0h-2v-4h2v4z\"/>\n",
              "    </g>\n",
              "</svg>\n",
              "  </button>\n",
              "\n",
              "<style>\n",
              "  .colab-df-quickchart {\n",
              "      --bg-color: #E8F0FE;\n",
              "      --fill-color: #1967D2;\n",
              "      --hover-bg-color: #E2EBFA;\n",
              "      --hover-fill-color: #174EA6;\n",
              "      --disabled-fill-color: #AAA;\n",
              "      --disabled-bg-color: #DDD;\n",
              "  }\n",
              "\n",
              "  [theme=dark] .colab-df-quickchart {\n",
              "      --bg-color: #3B4455;\n",
              "      --fill-color: #D2E3FC;\n",
              "      --hover-bg-color: #434B5C;\n",
              "      --hover-fill-color: #FFFFFF;\n",
              "      --disabled-bg-color: #3B4455;\n",
              "      --disabled-fill-color: #666;\n",
              "  }\n",
              "\n",
              "  .colab-df-quickchart {\n",
              "    background-color: var(--bg-color);\n",
              "    border: none;\n",
              "    border-radius: 50%;\n",
              "    cursor: pointer;\n",
              "    display: none;\n",
              "    fill: var(--fill-color);\n",
              "    height: 32px;\n",
              "    padding: 0;\n",
              "    width: 32px;\n",
              "  }\n",
              "\n",
              "  .colab-df-quickchart:hover {\n",
              "    background-color: var(--hover-bg-color);\n",
              "    box-shadow: 0 1px 2px rgba(60, 64, 67, 0.3), 0 1px 3px 1px rgba(60, 64, 67, 0.15);\n",
              "    fill: var(--button-hover-fill-color);\n",
              "  }\n",
              "\n",
              "  .colab-df-quickchart-complete:disabled,\n",
              "  .colab-df-quickchart-complete:disabled:hover {\n",
              "    background-color: var(--disabled-bg-color);\n",
              "    fill: var(--disabled-fill-color);\n",
              "    box-shadow: none;\n",
              "  }\n",
              "\n",
              "  .colab-df-spinner {\n",
              "    border: 2px solid var(--fill-color);\n",
              "    border-color: transparent;\n",
              "    border-bottom-color: var(--fill-color);\n",
              "    animation:\n",
              "      spin 1s steps(1) infinite;\n",
              "  }\n",
              "\n",
              "  @keyframes spin {\n",
              "    0% {\n",
              "      border-color: transparent;\n",
              "      border-bottom-color: var(--fill-color);\n",
              "      border-left-color: var(--fill-color);\n",
              "    }\n",
              "    20% {\n",
              "      border-color: transparent;\n",
              "      border-left-color: var(--fill-color);\n",
              "      border-top-color: var(--fill-color);\n",
              "    }\n",
              "    30% {\n",
              "      border-color: transparent;\n",
              "      border-left-color: var(--fill-color);\n",
              "      border-top-color: var(--fill-color);\n",
              "      border-right-color: var(--fill-color);\n",
              "    }\n",
              "    40% {\n",
              "      border-color: transparent;\n",
              "      border-right-color: var(--fill-color);\n",
              "      border-top-color: var(--fill-color);\n",
              "    }\n",
              "    60% {\n",
              "      border-color: transparent;\n",
              "      border-right-color: var(--fill-color);\n",
              "    }\n",
              "    80% {\n",
              "      border-color: transparent;\n",
              "      border-right-color: var(--fill-color);\n",
              "      border-bottom-color: var(--fill-color);\n",
              "    }\n",
              "    90% {\n",
              "      border-color: transparent;\n",
              "      border-bottom-color: var(--fill-color);\n",
              "    }\n",
              "  }\n",
              "</style>\n",
              "\n",
              "  <script>\n",
              "    async function quickchart(key) {\n",
              "      const quickchartButtonEl =\n",
              "        document.querySelector('#' + key + ' button');\n",
              "      quickchartButtonEl.disabled = true;  // To prevent multiple clicks.\n",
              "      quickchartButtonEl.classList.add('colab-df-spinner');\n",
              "      try {\n",
              "        const charts = await google.colab.kernel.invokeFunction(\n",
              "            'suggestCharts', [key], {});\n",
              "      } catch (error) {\n",
              "        console.error('Error during call to suggestCharts:', error);\n",
              "      }\n",
              "      quickchartButtonEl.classList.remove('colab-df-spinner');\n",
              "      quickchartButtonEl.classList.add('colab-df-quickchart-complete');\n",
              "    }\n",
              "    (() => {\n",
              "      let quickchartButtonEl =\n",
              "        document.querySelector('#df-f519b4ff-4a63-4b3b-87d8-19c6a77ea551 button');\n",
              "      quickchartButtonEl.style.display =\n",
              "        google.colab.kernel.accessAllowed ? 'block' : 'none';\n",
              "    })();\n",
              "  </script>\n",
              "</div>\n",
              "    </div>\n",
              "  </div>\n"
            ],
            "application/vnd.google.colaboratory.intrinsic+json": {
              "type": "dataframe",
              "variable_name": "df_filled"
            }
          },
          "metadata": {},
          "execution_count": 8
        }
      ]
    },
    {
      "cell_type": "code",
      "source": [
        "df_filled = df_filled.drop(['post-pandemic'], axis = 1)"
      ],
      "metadata": {
        "id": "21XgRTAV54ij"
      },
      "execution_count": null,
      "outputs": []
    },
    {
      "cell_type": "code",
      "source": [
        "df_filled.columns[:50]"
      ],
      "metadata": {
        "colab": {
          "base_uri": "https://localhost:8080/"
        },
        "id": "YLxx-uwipOd6",
        "outputId": "15f0f521-9e80-4a25-9f94-a0f14f257133"
      },
      "execution_count": null,
      "outputs": [
        {
          "output_type": "execute_result",
          "data": {
            "text/plain": [
              "Index(['Environment and Agriculture', 'Communication', 'Consulting',\n",
              "       'Education', 'Energy', 'Entertainment', 'Finance',\n",
              "       'Government Administration', 'Healthcare', 'Hospitality',\n",
              "       'Human Resource', 'Information Technology', 'Legal Services',\n",
              "       'Manufacturing', 'Real Estate', 'Remote', 'Retail', 'Social Service',\n",
              "       'Transportation', 'CitySize_big', 'CitySize_medium', 'CitySize_rural',\n",
              "       'CitySize_small', 'State_AL', 'State_AZ', 'State_CA', 'State_CO',\n",
              "       'State_CT', 'State_DC', 'State_FL', 'State_GA', 'State_IA', 'State_IL',\n",
              "       'State_IN', 'State_KY', 'State_MA', 'State_MD', 'State_ME', 'State_MI',\n",
              "       'State_MN', 'State_MO', 'State_NC', 'State_NE', 'State_NJ', 'State_NV',\n",
              "       'State_NY', 'State_OH', 'State_OK', 'State_OR', 'State_PA'],\n",
              "      dtype='object')"
            ]
          },
          "metadata": {},
          "execution_count": 7
        }
      ]
    },
    {
      "cell_type": "code",
      "source": [
        "df_filled = df_filled * 1\n",
        "df_filled = df_filled.fillna(0)\n",
        "df_filled = df_filled.apply(pd.to_numeric, errors='coerce')"
      ],
      "metadata": {
        "id": "gk_UUmxOFnHm"
      },
      "execution_count": null,
      "outputs": []
    },
    {
      "cell_type": "code",
      "source": [
        "level = ['Seniority_Associate','Seniority_Director','Seniority_Entry level','Seniority_Executive','Seniority_Internship','Seniority_Mid-Senior level']"
      ],
      "metadata": {
        "id": "X4xU4m3QsQsu"
      },
      "execution_count": null,
      "outputs": []
    },
    {
      "cell_type": "code",
      "source": [
        "df = df_filled.drop(['Remote'], axis = 1)\n",
        "node_features = torch.tensor(df.values, dtype=torch.float)\n",
        "\n",
        "edges = []\n",
        "seniority_features = df_filled[level].values\n",
        "\n",
        "for i in range(len(seniority_features)):\n",
        "    for j in range(i + 1, len(seniority_features)):\n",
        "        if np.any(seniority_features[i] & seniority_features[j]):\n",
        "            edges.append((i, j))\n",
        "            edges.append((j, i))\n",
        "\n",
        "edge_index = torch.tensor(edges, dtype=torch.long).t().contiguous()\n",
        "\n",
        "labels = torch.tensor(df_filled['Remote'].values, dtype=torch.long)\n",
        "data = Data(x=node_features, edge_index=edge_index, y=labels)\n",
        "\n",
        "# df_values = df[city_sizes].values.astype(int)\n",
        "# shared_matrix = np.dot(df_values, df_values.T)\n",
        "\n",
        "# shared_mask = np.where((shared_matrix > 0) & (~np.eye(shared_matrix.shape[0], dtype=bool)))\n",
        "\n",
        "# rows, cols = shared_mask\n",
        "\n",
        "# edges = list(set([(min(r, c), max(r, c)) for r, c in zip(rows, cols)]))\n",
        "\n",
        "# edge_index = torch.tensor(edges, dtype=torch.long).t().contiguous()"
      ],
      "metadata": {
        "id": "FLeZhMG5upPl"
      },
      "execution_count": null,
      "outputs": []
    },
    {
      "cell_type": "code",
      "source": [
        "edge_index.shape"
      ],
      "metadata": {
        "id": "PkhSb1mWmuas",
        "colab": {
          "base_uri": "https://localhost:8080/"
        },
        "outputId": "c1d3ace2-131f-4177-f2ee-c0c9142c84ac"
      },
      "execution_count": null,
      "outputs": [
        {
          "output_type": "execute_result",
          "data": {
            "text/plain": [
              "torch.Size([2, 373651720])"
            ]
          },
          "metadata": {},
          "execution_count": 12
        }
      ]
    },
    {
      "cell_type": "code",
      "source": [
        "remote_status = node_features[:, 15]\n",
        "minority_nodes = (remote_status == 1).nonzero().view(-1)\n",
        "majority_nodes = (remote_status == 0).nonzero().view(-1)\n",
        "\n",
        "downsampled_majority_nodes = majority_nodes[torch.randperm(len(majority_nodes))[:len(minority_nodes)]]\n",
        "\n",
        "all_nodes = torch.cat([minority_nodes, downsampled_majority_nodes])\n",
        "all_nodes = all_nodes[torch.randperm(len(all_nodes))]\n",
        "\n",
        "train_nodes, test_nodes = train_test_split(all_nodes, test_size=0.2, stratify=remote_status[all_nodes], random_state=42)"
      ],
      "metadata": {
        "id": "jfmWZAtqogpE"
      },
      "execution_count": null,
      "outputs": []
    },
    {
      "cell_type": "code",
      "source": [
        "from torch_geometric.nn import SAGEConv\n",
        "import torch.nn.functional as F\n",
        "import torch\n",
        "\n",
        "class GraphSAGE(torch.nn.Module):\n",
        "    def __init__(self, num_node_features, num_classes):\n",
        "        super(GraphSAGE, self).__init__()\n",
        "        self.conv1 = SAGEConv(num_node_features, 8)\n",
        "        self.conv2 = SAGEConv(8, num_classes)\n",
        "\n",
        "    def forward(self, x, edge_index):\n",
        "        x = self.conv1(x, edge_index)\n",
        "        x = F.relu(x)\n",
        "        x = F.dropout(x, training=self.training)\n",
        "        x = self.conv2(x, edge_index)\n",
        "        return F.log_softmax(x, dim=1)\n",
        "\n",
        "device = torch.device('cuda' if torch.cuda.is_available() else 'cpu')\n",
        "model = GraphSAGE(num_node_features=data.num_node_features, num_classes=2).to(device)\n",
        "\n",
        "data = data.to(device)\n",
        "optimizer = torch.optim.Adam(model.parameters(), lr=0.01)\n",
        "criterion = torch.nn.NLLLoss()"
      ],
      "metadata": {
        "id": "yn1I1UgZolSN"
      },
      "execution_count": null,
      "outputs": []
    },
    {
      "cell_type": "code",
      "source": [
        "train_nodes.shape"
      ],
      "metadata": {
        "id": "5uVLBA06olZ_",
        "colab": {
          "base_uri": "https://localhost:8080/"
        },
        "outputId": "e712ea3e-ed97-44d0-8ce0-6d79ce40c3b2"
      },
      "execution_count": null,
      "outputs": [
        {
          "output_type": "execute_result",
          "data": {
            "text/plain": [
              "torch.Size([4716])"
            ]
          },
          "metadata": {},
          "execution_count": 24
        }
      ]
    },
    {
      "cell_type": "code",
      "source": [
        "data"
      ],
      "metadata": {
        "id": "abTm_kAmolcY",
        "colab": {
          "base_uri": "https://localhost:8080/"
        },
        "outputId": "20799fb0-e6bd-4c68-93bd-c5c159b96af1"
      },
      "execution_count": null,
      "outputs": [
        {
          "output_type": "execute_result",
          "data": {
            "text/plain": [
              "Data(x=[30246, 253], edge_index=[2, 373651720], y=[30246])"
            ]
          },
          "metadata": {},
          "execution_count": 25
        }
      ]
    },
    {
      "cell_type": "markdown",
      "source": [],
      "metadata": {
        "id": "j30yufYS25co"
      }
    },
    {
      "cell_type": "code",
      "source": [
        "def sample_edges(edge_index, percentage=0.1):\n",
        "\n",
        "    num_edges = edge_index.size(1)\n",
        "    num_sampled = int(num_edges * percentage)\n",
        "\n",
        "    sampled_indices = np.random.choice(num_edges, num_sampled, replace=False)\n",
        "    sampled_indices = torch.from_numpy(sampled_indices).long()\n",
        "    sampled_edge_index = edge_index[:, sampled_indices]\n",
        "\n",
        "    return sampled_edge_index\n",
        "\n",
        "loss_values = []\n",
        "for epoch in range(100):\n",
        "    model.train()\n",
        "    optimizer.zero_grad()\n",
        "\n",
        "    sampled_edge_index = sample_edges(data.edge_index, percentage=0.01)\n",
        "\n",
        "    out = model(data.x, sampled_edge_index)\n",
        "    train_mask = torch.tensor(train_nodes, dtype=torch.long).to(device)\n",
        "    loss = criterion(out[train_mask], data.y[train_mask])\n",
        "\n",
        "    loss.backward()\n",
        "    optimizer.step()\n",
        "    loss_values.append(loss.item())\n",
        "\n",
        "    print(f'Epoch {epoch+1}, Loss: {loss.item()}')"
      ],
      "metadata": {
        "id": "xejYz3tToles",
        "colab": {
          "base_uri": "https://localhost:8080/"
        },
        "outputId": "3b63ef81-c156-4854-b3da-cb616a65a466"
      },
      "execution_count": null,
      "outputs": [
        {
          "output_type": "stream",
          "name": "stderr",
          "text": [
            "<ipython-input-26-59820c808763>:20: UserWarning: To copy construct from a tensor, it is recommended to use sourceTensor.clone().detach() or sourceTensor.clone().detach().requires_grad_(True), rather than torch.tensor(sourceTensor).\n",
            "  train_mask = torch.tensor(train_nodes, dtype=torch.long).to(device)\n"
          ]
        },
        {
          "output_type": "stream",
          "name": "stdout",
          "text": [
            "Epoch 1, Loss: 0.678339421749115\n",
            "Epoch 2, Loss: 0.5913197994232178\n",
            "Epoch 3, Loss: 0.5270072221755981\n",
            "Epoch 4, Loss: 0.46737030148506165\n",
            "Epoch 5, Loss: 0.42034515738487244\n",
            "Epoch 6, Loss: 0.3852542042732239\n",
            "Epoch 7, Loss: 0.3657827377319336\n",
            "Epoch 8, Loss: 0.36935245990753174\n",
            "Epoch 9, Loss: 0.3848572373390198\n",
            "Epoch 10, Loss: 0.39478808641433716\n",
            "Epoch 11, Loss: 0.40333518385887146\n",
            "Epoch 12, Loss: 0.4067736864089966\n",
            "Epoch 13, Loss: 0.40153491497039795\n",
            "Epoch 14, Loss: 0.3935595750808716\n",
            "Epoch 15, Loss: 0.38965708017349243\n",
            "Epoch 16, Loss: 0.37959450483322144\n",
            "Epoch 17, Loss: 0.3748040795326233\n",
            "Epoch 18, Loss: 0.366346150636673\n",
            "Epoch 19, Loss: 0.3611716032028198\n",
            "Epoch 20, Loss: 0.35920006036758423\n",
            "Epoch 21, Loss: 0.3623844385147095\n",
            "Epoch 22, Loss: 0.3627249598503113\n",
            "Epoch 23, Loss: 0.3620188236236572\n",
            "Epoch 24, Loss: 0.3659276068210602\n",
            "Epoch 25, Loss: 0.36777883768081665\n",
            "Epoch 26, Loss: 0.36575379967689514\n",
            "Epoch 27, Loss: 0.36625292897224426\n",
            "Epoch 28, Loss: 0.36362510919570923\n",
            "Epoch 29, Loss: 0.36184436082839966\n",
            "Epoch 30, Loss: 0.3582182228565216\n",
            "Epoch 31, Loss: 0.3565727770328522\n",
            "Epoch 32, Loss: 0.3568180203437805\n",
            "Epoch 33, Loss: 0.3538842797279358\n",
            "Epoch 34, Loss: 0.35466715693473816\n",
            "Epoch 35, Loss: 0.35779568552970886\n",
            "Epoch 36, Loss: 0.3573644757270813\n",
            "Epoch 37, Loss: 0.35882478952407837\n",
            "Epoch 38, Loss: 0.35801932215690613\n",
            "Epoch 39, Loss: 0.3580131530761719\n",
            "Epoch 40, Loss: 0.3541733920574188\n",
            "Epoch 41, Loss: 0.3549392819404602\n",
            "Epoch 42, Loss: 0.35504043102264404\n",
            "Epoch 43, Loss: 0.3544836640357971\n",
            "Epoch 44, Loss: 0.35350891947746277\n",
            "Epoch 45, Loss: 0.35377001762390137\n",
            "Epoch 46, Loss: 0.3530614972114563\n",
            "Epoch 47, Loss: 0.3545477092266083\n",
            "Epoch 48, Loss: 0.35367757081985474\n",
            "Epoch 49, Loss: 0.35239213705062866\n",
            "Epoch 50, Loss: 0.35401517152786255\n",
            "Epoch 51, Loss: 0.35367268323898315\n",
            "Epoch 52, Loss: 0.35280781984329224\n",
            "Epoch 53, Loss: 0.3509990870952606\n",
            "Epoch 54, Loss: 0.3521890640258789\n",
            "Epoch 55, Loss: 0.3515061140060425\n",
            "Epoch 56, Loss: 0.3500817120075226\n",
            "Epoch 57, Loss: 0.3524249196052551\n",
            "Epoch 58, Loss: 0.3516433537006378\n",
            "Epoch 59, Loss: 0.35032597184181213\n",
            "Epoch 60, Loss: 0.3500991463661194\n",
            "Epoch 61, Loss: 0.351346880197525\n",
            "Epoch 62, Loss: 0.35207492113113403\n",
            "Epoch 63, Loss: 0.34957465529441833\n",
            "Epoch 64, Loss: 0.3479166030883789\n",
            "Epoch 65, Loss: 0.3495946526527405\n",
            "Epoch 66, Loss: 0.3485504984855652\n",
            "Epoch 67, Loss: 0.3463920056819916\n",
            "Epoch 68, Loss: 0.34710389375686646\n",
            "Epoch 69, Loss: 0.34645429253578186\n",
            "Epoch 70, Loss: 0.34781819581985474\n",
            "Epoch 71, Loss: 0.347024530172348\n",
            "Epoch 72, Loss: 0.34595537185668945\n",
            "Epoch 73, Loss: 0.34487587213516235\n",
            "Epoch 74, Loss: 0.345144659280777\n",
            "Epoch 75, Loss: 0.34368041157722473\n",
            "Epoch 76, Loss: 0.3440927267074585\n",
            "Epoch 77, Loss: 0.3463338613510132\n",
            "Epoch 78, Loss: 0.3414543867111206\n",
            "Epoch 79, Loss: 0.3423539698123932\n",
            "Epoch 80, Loss: 0.3424150049686432\n",
            "Epoch 81, Loss: 0.34137073159217834\n",
            "Epoch 82, Loss: 0.3401693105697632\n",
            "Epoch 83, Loss: 0.3426401615142822\n",
            "Epoch 84, Loss: 0.33996647596359253\n",
            "Epoch 85, Loss: 0.34192198514938354\n",
            "Epoch 86, Loss: 0.3430391848087311\n",
            "Epoch 87, Loss: 0.34129029512405396\n",
            "Epoch 88, Loss: 0.33809635043144226\n",
            "Epoch 89, Loss: 0.3416181802749634\n",
            "Epoch 90, Loss: 0.3409503698348999\n",
            "Epoch 91, Loss: 0.3391401171684265\n",
            "Epoch 92, Loss: 0.33965161442756653\n",
            "Epoch 93, Loss: 0.34009677171707153\n",
            "Epoch 94, Loss: 0.3383679687976837\n",
            "Epoch 95, Loss: 0.3383803069591522\n",
            "Epoch 96, Loss: 0.3378174901008606\n",
            "Epoch 97, Loss: 0.3376891314983368\n",
            "Epoch 98, Loss: 0.33665376901626587\n",
            "Epoch 99, Loss: 0.3358735144138336\n",
            "Epoch 100, Loss: 0.33629855513572693\n"
          ]
        }
      ]
    },
    {
      "cell_type": "code",
      "source": [
        "plt.figure(figsize=(10, 5))\n",
        "plt.plot(loss_values[:50], label='Training Loss')\n",
        "plt.title('Training Loss per Epoch')\n",
        "plt.xlabel('Epoch')\n",
        "plt.ylabel('Loss')\n",
        "plt.legend()\n",
        "plt.grid(True)\n",
        "plt.show()"
      ],
      "metadata": {
        "id": "17kqk9BHovIe",
        "colab": {
          "base_uri": "https://localhost:8080/",
          "height": 487
        },
        "outputId": "6b096555-b425-49c2-ad92-e55dd65bbb92"
      },
      "execution_count": null,
      "outputs": [
        {
          "output_type": "display_data",
          "data": {
            "text/plain": [
              "<Figure size 1000x500 with 1 Axes>"
            ],
            "image/png": "[encoded data removed]"
          },
          "metadata": {}
        }
      ]
    },
    {
      "cell_type": "code",
      "source": [
        "# def simple_subgraph_sampler(edge_index, num_nodes, sample_size=100):\n",
        "\n",
        "#     # Randomly sample nodes\n",
        "#     sampled_nodes = torch.randperm(num_nodes)[:sample_size]\n",
        "\n",
        "#     # Find edges where both the source and target nodes are in the sampled set\n",
        "#     mask = torch.isin(edge_index[0], sampled_nodes) & torch.isin(edge_index[1], sampled_nodes)\n",
        "#     subgraph_edge_index = edge_index[:, mask]\n",
        "\n",
        "#     # Adjust node indices in subgraph_edge_index to be local to the sampled set\n",
        "#     node_mapping = {node.item(): i for i, node in enumerate(sampled_nodes)}\n",
        "#     for i in range(subgraph_edge_index.size(1)):\n",
        "#         subgraph_edge_index[0, i] = node_mapping[subgraph_edge_index[0, i].item()]\n",
        "#         subgraph_edge_index[1, i] = node_mapping[subgraph_edge_index[1, i].item()]\n",
        "\n",
        "#     return sampled_nodes, subgraph_edge_index\n",
        "\n"
      ],
      "metadata": {
        "id": "Rk6TiZVgIrCS"
      },
      "execution_count": null,
      "outputs": []
    },
    {
      "cell_type": "code",
      "source": [
        "def simple_subgraph_sampler(edge_index, eligible_nodes, sample_size=100):\n",
        "    sampled_nodes = torch.tensor(np.random.choice(eligible_nodes, sample_size, replace=False))\n",
        "    mask = torch.isin(edge_index[0], sampled_nodes) & torch.isin(edge_index[1], sampled_nodes)\n",
        "    subgraph_edge_index = edge_index[:, mask]\n",
        "\n",
        "    node_mapping = {node.item(): i for i, node in enumerate(sampled_nodes)}\n",
        "    for i in range(subgraph_edge_index.size(1)):\n",
        "        subgraph_edge_index[0, i] = node_mapping[subgraph_edge_index[0, i].item()]\n",
        "        subgraph_edge_index[1, i] = node_mapping[subgraph_edge_index[1, i].item()]\n",
        "\n",
        "    return sampled_nodes, subgraph_edge_index\n",
        "\n",
        "def evaluate_on_subgraphs(model, edge_index, test_nodes, data, sample_size=100, num_samples=50, device='cpu'):\n",
        "    model.to(device)\n",
        "    model.eval()\n",
        "    total_accuracy = 0\n",
        "    all_preds = []\n",
        "    all_labels = []\n",
        "\n",
        "    for _ in range(num_samples):\n",
        "        sampled_nodes, subgraph_edge_index = simple_subgraph_sampler(edge_index, test_nodes, sample_size)\n",
        "        subgraph_x = data.x[sampled_nodes].to(device)\n",
        "        subgraph_y = data.y[sampled_nodes].to(device)\n",
        "        subgraph_edge_index = subgraph_edge_index.to(device)\n",
        "\n",
        "        subgraph_out = model(subgraph_x, subgraph_edge_index)\n",
        "\n",
        "        _, pred = subgraph_out.max(dim=1)\n",
        "        correct = pred.eq(subgraph_y).sum().item()\n",
        "        accuracy = correct / sample_size\n",
        "        total_accuracy += accuracy\n",
        "        all_preds.extend(pred.cpu().numpy())\n",
        "        all_labels.extend(subgraph_y.cpu().numpy())\n",
        "\n",
        "        cm = confusion_matrix(all_labels, all_preds)\n",
        "        mean_accuracy = total_accuracy / num_samples\n",
        "\n",
        "    return mean_accuracy, cm\n",
        "\n",
        "mean_accuracy,cm = evaluate_on_subgraphs(model, edge_index, test_nodes, data)\n",
        "print(f\"Mean accuracy over sampled subgraphs: {mean_accuracy}\")\n",
        "print(\"Confusion Matrix:\\n\", cm)"
      ],
      "metadata": {
        "id": "-Iyir5NtIu6M",
        "colab": {
          "base_uri": "https://localhost:8080/"
        },
        "outputId": "b3753b28-f882-4634-d362-62574fef84fb"
      },
      "execution_count": null,
      "outputs": [
        {
          "output_type": "stream",
          "name": "stdout",
          "text": [
            "Mean accuracy over sampled subgraphs: 0.8786\n",
            "Confusion Matrix:\n",
            " [[4393    0]\n",
            " [ 607    0]]\n"
          ]
        }
      ]
    },
    {
      "cell_type": "code",
      "source": [
        "sampled_nodes, subgraph_edge_index = simple_subgraph_sampler(edge_index, test_nodes, sample_size=1000)\n",
        "subgraph_x = data.x[sampled_nodes].to('cpu')\n",
        "subgraph_y = data.y[sampled_nodes].to('cpu')\n",
        "subgraph_out = model(subgraph_x, subgraph_edge_index).detach()\n",
        "_, pred = subgraph_out.max(dim=1)\n",
        "\n",
        "print(\"Predictions:\", pred[:10].numpy())\n",
        "print(\"True labels:\", subgraph_y[:10].numpy())\n"
      ],
      "metadata": {
        "colab": {
          "base_uri": "https://localhost:8080/"
        },
        "id": "bdjB4NUpgxFF",
        "outputId": "62731ea8-de9d-4e6e-ad7b-4a2394e422d2"
      },
      "execution_count": null,
      "outputs": [
        {
          "output_type": "stream",
          "name": "stdout",
          "text": [
            "Predictions: [1 1 0 0 0 1 1 0 1 0]\n",
            "True labels: [1 1 0 0 0 1 1 0 1 0]\n"
          ]
        }
      ]
    },
    {
      "cell_type": "code",
      "source": [
        "import networkx as nx\n",
        "import matplotlib.pyplot as plt\n",
        "from torch_geometric.utils import to_networkx\n",
        "\n",
        "# Convert PyTorch Geometric data to NetworkX\n",
        "G = to_networkx(data, to_undirected=True)\n",
        "\n",
        "# Draw the graph\n",
        "plt.figure(figsize=(10, 8))\n",
        "nx.draw(G, with_labels=True, node_color='lightblue', edge_color='gray')\n",
        "plt.title('Graph Visualization')\n",
        "plt.show()"
      ],
      "metadata": {
        "id": "ACkgzjfoIvla"
      },
      "execution_count": null,
      "outputs": []
    },
    {
      "cell_type": "code",
      "source": [
        "states = ['State_AL', 'State_AZ', 'State_CA',\n",
        "       'State_CO', 'State_CT', 'State_DC', 'State_FL', 'State_GA', 'State_IA',\n",
        "       'State_IL', 'State_IN', 'State_KY', 'State_MA', 'State_MD', 'State_ME',\n",
        "       'State_MI', 'State_MN', 'State_MO', 'State_NC', 'State_NE', 'State_NJ',\n",
        "       'State_NV', 'State_NY', 'State_OH', 'State_OK', 'State_OR', 'State_PA', 'State_SC', 'State_TN', 'State_TX', 'State_UT', 'State_VA',\n",
        "       'State_WA', 'State_WI']\n",
        "city_sizes = ['CitySize_big', 'CitySize_medium', 'CitySize_rural', 'CitySize_small']"
      ],
      "metadata": {
        "id": "5sTOzIPxenNZ"
      },
      "execution_count": null,
      "outputs": []
    },
    {
      "cell_type": "code",
      "source": [
        "# Combine city size and state features for each sample\n",
        "combined_features = df_filled[city_sizes + states].values\n",
        "edges = []\n",
        "\n",
        "for i in range(len(combined_features)):\n",
        "    for j in range(i + 1, len(combined_features)):\n",
        "        # Check if samples share at least one city size AND are in the same state\n",
        "        if np.any(combined_features[i][:len(city_sizes)] & combined_features[j][:len(city_sizes)]) and np.any(combined_features[i][len(city_sizes):] & combined_features[j][len(city_sizes):]):\n",
        "            edges.append((i, j))\n",
        "            edges.append((j, i))\n",
        "\n",
        "edge_index = torch.tensor(edges, dtype=torch.long).t().contiguous()"
      ],
      "metadata": {
        "id": "mIqD48xIenPu"
      },
      "execution_count": null,
      "outputs": []
    },
    {
      "cell_type": "code",
      "source": [],
      "metadata": {
        "id": "50cR_CWXfnZa"
      },
      "execution_count": null,
      "outputs": []
    },
    {
      "cell_type": "code",
      "source": [
        "edge_index.shape"
      ],
      "metadata": {
        "colab": {
          "base_uri": "https://localhost:8080/"
        },
        "id": "-MvsvaSSenSF",
        "outputId": "86657bd2-87f9-4d6e-b72c-9b6db8191af1"
      },
      "execution_count": null,
      "outputs": [
        {
          "output_type": "execute_result",
          "data": {
            "text/plain": [
              "torch.Size([2, 29903274])"
            ]
          },
          "metadata": {},
          "execution_count": 14
        }
      ]
    },
    {
      "cell_type": "code",
      "source": [
        "labels = torch.tensor(df_filled['Remote'].values, dtype=torch.long)\n",
        "data = Data(x=node_features, edge_index=edge_index, y=labels)\n",
        "\n",
        "remote_status = node_features[:, 15]\n",
        "minority_nodes = (remote_status == 1).nonzero().view(-1)\n",
        "majority_nodes = (remote_status == 0).nonzero().view(-1)\n",
        "\n",
        "downsampled_majority_nodes = majority_nodes[torch.randperm(len(majority_nodes))[:len(minority_nodes)]]\n",
        "\n",
        "all_nodes = torch.cat([minority_nodes, downsampled_majority_nodes])\n",
        "all_nodes = all_nodes[torch.randperm(len(all_nodes))]\n",
        "\n",
        "train_nodes, test_nodes = train_test_split(all_nodes, test_size=0.2, stratify=remote_status[all_nodes], random_state=42)"
      ],
      "metadata": {
        "id": "lAqButpoenUm"
      },
      "execution_count": null,
      "outputs": []
    },
    {
      "cell_type": "code",
      "source": [
        "from torch_geometric.nn import SAGEConv\n",
        "import torch.nn.functional as F\n",
        "import torch\n",
        "\n",
        "class GraphSAGE(torch.nn.Module):\n",
        "    def __init__(self, num_node_features, num_classes):\n",
        "        super(GraphSAGE, self).__init__()\n",
        "        self.conv1 = SAGEConv(num_node_features, 16)\n",
        "        self.conv2 = SAGEConv(16, num_classes)\n",
        "\n",
        "    def forward(self, x, edge_index):\n",
        "        x = self.conv1(x, edge_index)\n",
        "        x = F.relu(x)\n",
        "        x = F.dropout(x, training=self.training)\n",
        "        x = self.conv2(x, edge_index)\n",
        "        return F.log_softmax(x, dim=1)"
      ],
      "metadata": {
        "id": "Yn7yvQcxenWx"
      },
      "execution_count": null,
      "outputs": []
    },
    {
      "cell_type": "code",
      "source": [
        "device = torch.device('cuda' if torch.cuda.is_available() else 'cpu')\n",
        "model = GraphSAGE(num_node_features=data.num_node_features, num_classes=2).to(device)\n",
        "\n",
        "data = data.to(device)\n",
        "optimizer = torch.optim.Adam(model.parameters(), lr=0.01)\n",
        "criterion = torch.nn.NLLLoss()"
      ],
      "metadata": {
        "id": "w_vL0ttSfo5W"
      },
      "execution_count": null,
      "outputs": []
    },
    {
      "cell_type": "code",
      "source": [
        "def sample_edges(edge_index, percentage=0.1):\n",
        "\n",
        "    num_edges = edge_index.size(1)\n",
        "    num_sampled = int(num_edges * percentage)\n",
        "\n",
        "    sampled_indices = np.random.choice(num_edges, num_sampled, replace=False)\n",
        "    sampled_indices = torch.from_numpy(sampled_indices).long()\n",
        "    sampled_edge_index = edge_index[:, sampled_indices]\n",
        "\n",
        "    return sampled_edge_index\n",
        "\n",
        "for epoch in range(20):\n",
        "    model.train()\n",
        "    optimizer.zero_grad()\n",
        "\n",
        "    sampled_edge_index = sample_edges(data.edge_index, percentage=0.01)\n",
        "\n",
        "    out = model(data.x, sampled_edge_index)\n",
        "    train_mask = torch.tensor(train_nodes, dtype=torch.long).to(device)  # Ensure train_mask is also on the correct device\n",
        "    loss = criterion(out[train_mask], data.y[train_mask])\n",
        "\n",
        "    loss.backward()\n",
        "    optimizer.step()\n",
        "\n",
        "    print(f'Epoch {epoch+1}, Loss: {loss.item()}')"
      ],
      "metadata": {
        "colab": {
          "base_uri": "https://localhost:8080/"
        },
        "id": "GV7SGcvlfo78",
        "outputId": "9177a856-a055-4ea0-9748-eced883f975f"
      },
      "execution_count": null,
      "outputs": [
        {
          "output_type": "stream",
          "name": "stderr",
          "text": [
            "<ipython-input-25-f4baed28cae7>:19: UserWarning: To copy construct from a tensor, it is recommended to use sourceTensor.clone().detach() or sourceTensor.clone().detach().requires_grad_(True), rather than torch.tensor(sourceTensor).\n",
            "  train_mask = torch.tensor(train_nodes, dtype=torch.long).to(device)  # Ensure train_mask is also on the correct device\n"
          ]
        },
        {
          "output_type": "stream",
          "name": "stdout",
          "text": [
            "Epoch 1, Loss: 0.33486831188201904\n",
            "Epoch 2, Loss: 0.3333370089530945\n",
            "Epoch 3, Loss: 0.33109205961227417\n",
            "Epoch 4, Loss: 0.3320654034614563\n",
            "Epoch 5, Loss: 0.33249565958976746\n",
            "Epoch 6, Loss: 0.33135712146759033\n",
            "Epoch 7, Loss: 0.3294685184955597\n",
            "Epoch 8, Loss: 0.33199000358581543\n",
            "Epoch 9, Loss: 0.3312431573867798\n",
            "Epoch 10, Loss: 0.325655460357666\n",
            "Epoch 11, Loss: 0.3258312940597534\n",
            "Epoch 12, Loss: 0.32766392827033997\n",
            "Epoch 13, Loss: 0.32866665720939636\n",
            "Epoch 14, Loss: 0.3309767246246338\n",
            "Epoch 15, Loss: 0.3268328011035919\n",
            "Epoch 16, Loss: 0.3287886083126068\n",
            "Epoch 17, Loss: 0.3265976905822754\n",
            "Epoch 18, Loss: 0.3276935815811157\n",
            "Epoch 19, Loss: 0.32644325494766235\n",
            "Epoch 20, Loss: 0.32836201786994934\n"
          ]
        }
      ]
    },
    {
      "cell_type": "code",
      "source": [
        "from sklearn.metrics import confusion_matrix\n",
        "def simple_subgraph_sampler(edge_index, eligible_nodes, sample_size=100):\n",
        "    # Sample nodes from the specified eligible nodes\n",
        "    sampled_nodes = torch.tensor(np.random.choice(eligible_nodes, sample_size, replace=False))\n",
        "\n",
        "    # Find edges where both the source and target nodes are in the sampled set\n",
        "    mask = torch.isin(edge_index[0], sampled_nodes) & torch.isin(edge_index[1], sampled_nodes)\n",
        "    subgraph_edge_index = edge_index[:, mask]\n",
        "\n",
        "    # Adjust node indices in subgraph_edge_index to be local to the sampled set\n",
        "    node_mapping = {node.item(): i for i, node in enumerate(sampled_nodes)}\n",
        "    for i in range(subgraph_edge_index.size(1)):\n",
        "        subgraph_edge_index[0, i] = node_mapping[subgraph_edge_index[0, i].item()]\n",
        "        subgraph_edge_index[1, i] = node_mapping[subgraph_edge_index[1, i].item()]\n",
        "\n",
        "    return sampled_nodes, subgraph_edge_index\n",
        "\n",
        "def evaluate_on_subgraphs(model, edge_index, test_nodes, data, sample_size=100, num_samples=50, device='cpu'):\n",
        "    model.to(device)\n",
        "    model.eval()\n",
        "    total_accuracy = 0\n",
        "    all_preds = []\n",
        "    all_labels = []\n",
        "\n",
        "    for _ in range(num_samples):\n",
        "        sampled_nodes, subgraph_edge_index = simple_subgraph_sampler(edge_index, test_nodes, sample_size)\n",
        "\n",
        "        # Ensure tensors are on the correct device\n",
        "        subgraph_x = data.x[sampled_nodes].to(device)\n",
        "        subgraph_y = data.y[sampled_nodes].to(device)\n",
        "        subgraph_edge_index = subgraph_edge_index.to(device)\n",
        "\n",
        "        subgraph_out = model(subgraph_x, subgraph_edge_index)\n",
        "\n",
        "        _, pred = subgraph_out.max(dim=1)\n",
        "        correct = pred.eq(subgraph_y).sum().item()\n",
        "        accuracy = correct / sample_size\n",
        "        total_accuracy += accuracy\n",
        "        all_preds.extend(pred.cpu().numpy())\n",
        "        all_labels.extend(subgraph_y.cpu().numpy())\n",
        "\n",
        "      # Compute the confusion matrix\n",
        "        cm = confusion_matrix(all_labels, all_preds)\n",
        "        mean_accuracy = total_accuracy / num_samples\n",
        "\n",
        "    return mean_accuracy, cm\n"
      ],
      "metadata": {
        "id": "VeTyXMnjfo-S"
      },
      "execution_count": null,
      "outputs": []
    },
    {
      "cell_type": "code",
      "source": [
        "mean_accuracy,cm = evaluate_on_subgraphs(model, edge_index, test_nodes, data)\n",
        "print(f\"Mean accuracy over sampled subgraphs: {mean_accuracy}\")\n",
        "print(\"Confusion Matrix:\\n\", cm)"
      ],
      "metadata": {
        "colab": {
          "base_uri": "https://localhost:8080/"
        },
        "id": "5O2zZ016f8Cw",
        "outputId": "c0a26658-1694-4be8-ba3f-e51afff2c5a3"
      },
      "execution_count": null,
      "outputs": [
        {
          "output_type": "stream",
          "name": "stdout",
          "text": [
            "Mean accuracy over sampled subgraphs: 0.8752000000000001\n",
            "Confusion Matrix:\n",
            " [[4376    0]\n",
            " [ 624    0]]\n"
          ]
        }
      ]
    },
    {
      "cell_type": "code",
      "source": [
        "len(test_nodes)"
      ],
      "metadata": {
        "colab": {
          "base_uri": "https://localhost:8080/"
        },
        "id": "wW2-hrqFXdwT",
        "outputId": "6ea7ffc5-a324-4363-fe6d-0a4c372bd935"
      },
      "execution_count": null,
      "outputs": [
        {
          "output_type": "execute_result",
          "data": {
            "text/plain": [
              "1180"
            ]
          },
          "metadata": {},
          "execution_count": 23
        }
      ]
    },
    {
      "cell_type": "code",
      "source": [
        "from sklearn.metrics import confusion_matrix\n",
        "import numpy as np\n",
        "\n",
        "\n",
        "def simple_subgraph_sampler(edge_index, eligible_nodes, sample_size=100, device='cpu'):\n",
        "    eligible_nodes = torch.tensor(eligible_nodes, device=device)\n",
        "\n",
        "    sampled_nodes = torch.tensor(np.random.choice(eligible_nodes.cpu().numpy(), sample_size, replace=False), device=device)\n",
        "\n",
        "    edge_index = edge_index.to(device)\n",
        "    mask = torch.isin(edge_index[0], sampled_nodes) & torch.isin(edge_index[1], sampled_nodes)\n",
        "    subgraph_edge_index = edge_index[:, mask]\n",
        "    node_mapping = {node.item(): i for i, node in enumerate(sampled_nodes)}\n",
        "    for i in range(subgraph_edge_index.size(1)):\n",
        "        subgraph_edge_index[0, i] = node_mapping[subgraph_edge_index[0, i].item()]\n",
        "        subgraph_edge_index[1, i] = node_mapping[subgraph_edge_index[1, i].item()]\n",
        "\n",
        "    return sampled_nodes, subgraph_edge_index\n",
        "\n",
        "\n",
        "def evaluate_on_subgraphs_with_confusion_matrix(model, edge_index, test_nodes, data, sample_size=100, num_samples=100, device='cpu'):\n",
        "    model.to(device)\n",
        "    model.eval()\n",
        "    total_accuracy = 0\n",
        "    all_preds = []\n",
        "    all_labels = []\n",
        "\n",
        "    for _ in range(num_samples):\n",
        "        sampled_nodes, subgraph_edge_index = simple_subgraph_sampler(edge_index, test_nodes, sample_size)\n",
        "\n",
        "        # Ensure tensors are on the correct device\n",
        "        subgraph_x = data.x[sampled_nodes].to(device)\n",
        "        subgraph_y = data.y[sampled_nodes].to(device)\n",
        "        subgraph_edge_index = subgraph_edge_index.to(device)\n",
        "\n",
        "        subgraph_out = model(subgraph_x, subgraph_edge_index)\n",
        "\n",
        "        _, pred = subgraph_out.max(dim=1)\n",
        "        correct = pred.eq(subgraph_y).sum().item()\n",
        "        accuracy = correct / sample_size\n",
        "        total_accuracy += accuracy\n",
        "\n",
        "        # Collect predictions and true labels\n",
        "        all_preds.extend(pred.cpu().numpy())\n",
        "        all_labels.extend(subgraph_y.cpu().numpy())\n",
        "\n",
        "    # Compute the confusion matrix\n",
        "    cm = confusion_matrix(all_labels, all_preds)\n",
        "    mean_accuracy = total_accuracy / num_samples\n",
        "\n",
        "    return mean_accuracy, cm\n",
        "\n",
        "# Evaluate the model and get both mean accuracy and confusion matrix\n",
        "mean_accuracy, cm = evaluate_on_subgraphs_with_confusion_matrix(model, data.edge_index, test_nodes.numpy(), data, device=device)\n",
        "print(f\"Mean accuracy over sampled subgraphs: {mean_accuracy}\")\n",
        "print(\"Confusion Matrix:\\n\", cm)"
      ],
      "metadata": {
        "colab": {
          "base_uri": "https://localhost:8080/"
        },
        "id": "ZYHl-kqHhl7A",
        "outputId": "ac73eb4f-bb76-4f3f-c9dc-85f6efc0d6a9"
      },
      "execution_count": null,
      "outputs": [
        {
          "output_type": "stream",
          "name": "stdout",
          "text": [
            "Mean accuracy over sampled subgraphs: 0.8836000000000002\n",
            "Confusion Matrix:\n",
            " [[8836    0]\n",
            " [1164    0]]\n"
          ]
        }
      ]
    }
  ]
}